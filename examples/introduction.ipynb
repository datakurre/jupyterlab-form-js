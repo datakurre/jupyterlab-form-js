{
 "cells": [
  {
   "cell_type": "code",
   "execution_count": 1,
   "metadata": {
    "tags": []
   },
   "outputs": [],
   "source": [
    "import ipywidgets as widgets\n",
    "import jupyterlab_form_js\n",
    "import json\n",
    "\n",
    "from IPython.display import clear_output, display, HTML, JSON"
   ]
  },
  {
   "cell_type": "code",
   "execution_count": 2,
   "metadata": {
    "tags": []
   },
   "outputs": [],
   "source": [
    "schema = {\n",
    "  \"components\": [\n",
    "    {\n",
    "      \"label\": \"Number\",\n",
    "      \"type\": \"number\",\n",
    "      \"id\": \"Field_0g29eeq\",\n",
    "      \"key\": \"field_0jgi51a\"\n",
    "    },\n",
    "    {\n",
    "      \"label\": \"Checkbox\",\n",
    "      \"type\": \"checkbox\",\n",
    "      \"id\": \"Field_17if6zf\",\n",
    "      \"key\": \"field_0i78dhv\"\n",
    "    },\n",
    "    {\n",
    "      \"action\": \"submit\",\n",
    "      \"label\": \"Button\",\n",
    "      \"type\": \"button\",\n",
    "      \"id\": \"Field_0wevy2f\",\n",
    "      \"key\": \"field_0tzmmt3\"\n",
    "    }\n",
    "  ],\n",
    "  \"type\": \"default\",\n",
    "  \"id\": \"Form_1y1d8hd\",\n",
    "  \"executionPlatform\": \"Camunda Cloud\",\n",
    "  \"executionPlatformVersion\": \"8.1.0\",\n",
    "  \"exporter\": {\n",
    "    \"name\": \"Camunda Modeler\",\n",
    "    \"version\": \"5.6.0\"\n",
    "  },\n",
    "  \"schemaVersion\": 5\n",
    "}"
   ]
  },
  {
   "cell_type": "code",
   "execution_count": 3,
   "metadata": {
    "tags": []
   },
   "outputs": [
    {
     "data": {
      "application/vnd.jupyter.widget-view+json": {
       "model_id": "e8e9f0bccf694fc58caa380545710be6",
       "version_major": 2,
       "version_minor": 0
      },
      "text/plain": [
       "FormJSWidget(data={'field_0jgi51a': 10}, schema={'components': [{'label': 'Number', 'type': 'number', 'id': 'F…"
      ]
     },
     "metadata": {},
     "output_type": "display_data"
    },
    {
     "data": {
      "application/vnd.jupyter.widget-view+json": {
       "model_id": "9b1117bd611b4e60a38463c8148bf012",
       "version_major": 2,
       "version_minor": 0
      },
      "text/plain": [
       "Output()"
      ]
     },
     "metadata": {},
     "output_type": "display_data"
    }
   ],
   "source": [
    "form = jupyterlab_form_js.FormJSWidget(\n",
    "    schema=schema,\n",
    "    data={\"field_0jgi51a\": 10}\n",
    ")\n",
    "out = widgets.Output()\n",
    "def handle_submit(f, data, errors):\n",
    "    with out:\n",
    "        clear_output()\n",
    "        display(HTML(\"<h2>And the data being submitted is...</h2>\"))\n",
    "        display(JSON(data, expanded=True))\n",
    "form.on_submit(handle_submit)\n",
    "display(form , out)"
   ]
  }
 ],
 "metadata": {
  "kernelspec": {
   "display_name": "Python 3 (ipykernel)",
   "language": "python",
   "name": "python3"
  },
  "language_info": {
   "codemirror_mode": {
    "name": "ipython",
    "version": 3
   },
   "file_extension": ".py",
   "mimetype": "text/x-python",
   "name": "python",
   "nbconvert_exporter": "python",
   "pygments_lexer": "ipython3",
   "version": "3.10.10"
  }
 },
 "nbformat": 4,
 "nbformat_minor": 4
}
